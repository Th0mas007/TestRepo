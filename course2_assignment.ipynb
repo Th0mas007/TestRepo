{
 "cells": [
  {
   "cell_type": "markdown",
   "metadata": {},
   "source": [
    "<center>\n",
    "    <img src=\"https://cf-courses-data.s3.us.cloud-object-storage.appdomain.cloud/IBMDeveloperSkillsNetwork-DS0105EN-SkillsNetwork/labs/Module2/images/SN_web_lightmode.png\" width=\"300\" alt=\"cognitiveclass.ai logo\">\n",
    "</center>\n"
   ]
  },
  {
   "cell_type": "markdown",
   "metadata": {},
   "source": [
    "#### Add your code below following the instructions given in the course\n"
   ]
  },
  {
   "cell_type": "markdown",
   "metadata": {},
   "source": [
    "## Peer Graded Assignment"
   ]
  },
  {
   "cell_type": "markdown",
   "metadata": {},
   "source": [
    "#### Introduction\n",
    "This is the assignment from the course tools of datascience"
   ]
  },
  {
   "cell_type": "markdown",
   "metadata": {},
   "source": [
    "### 🧠 Data Science Programming Languages\n",
    "\n",
    "Here are some of the most commonly used programming languages in Data Science:\n",
    "\n",
    "- **Python** 🐍 – Popular for data analysis, machine learning, automation, and visualization.  \n",
    "- **R** 📊 – Great for statistical analysis, visualization, and academic research.  \n",
    "- **SQL** 💾 – Essential for querying and managing data stored in relational databases.\n",
    "\n",
    "> These languages are foundational in the Data Science field and are often used together in real-world projects."
   ]
  },
  {
   "cell_type": "markdown",
   "metadata": {},
   "source": [
    "### 📚 Common Data Science Libraries\n",
    "\n",
    "Here are some widely used libraries in Data Science:\n",
    "\n",
    "- **NumPy** – For numerical operations and handling arrays  \n",
    "- **Pandas** – For data manipulation and analysis  \n",
    "- **Matplotlib** – For data visualization (2D plots)  \n",
    "- **Seaborn** – For statistical data visualization  \n",
    "- **Scikit-learn** – For machine learning algorithms and model evaluation  \n",
    "- **Statsmodels** – For statistical modeling and hypothesis testing  \n",
    "- **TensorFlow / PyTorch** – For deep learning applications  \n",
    "- **XGBoost / LightGBM** – For gradient boosting in ML tasks  \n",
    "- **NLTK / SpaCy** – For natural language processing  \n",
    "- **OpenCV** – For image processing and computer vision\n",
    "\n",
    "> These libraries form the core of many data science and machine learning workflows.\n"
   ]
  },
  {
   "cell_type": "markdown",
   "metadata": {},
   "source": [
    "### 🛠️ Data Science Tools\n",
    "\n",
    "| Tool              | Category             | Description                                     |\n",
    "|-------------------|----------------------|-------------------------------------------------|\n",
    "| **Jupyter Notebook** | Development Environment | Interactive coding and data visualization       |\n",
    "| **RStudio**          | Development Environment | IDE for R programming and statistical analysis  |\n",
    "| **Apache Spark**     | Big Data Framework     | Distributed processing for large-scale data     |\n",
    "| **TensorFlow**       | Machine Learning       | Deep learning framework by Google               |\n",
    "| **Watson Studio**    | Cloud Platform         | IBM’s platform for data science and AI          |\n",
    "| **Excel**            | Spreadsheet Tool       | Data manipulation, analysis, and visualization  |\n",
    "\n",
    "> These tools support different stages of the data science lifecycle, from exploration to deployment.\n"
   ]
  },
  {
   "cell_type": "markdown",
   "metadata": {},
   "source": [
    "### ➗ Arithmetic Expression Examples\n",
    "\n",
    "In this section, we'll look at simple arithmetic expressions used in programming. These expressions can include operations like addition, subtraction, multiplication, and division.\n"
   ]
  },
  {
   "cell_type": "code",
   "execution_count": 1,
   "metadata": {},
   "outputs": [
    {
     "name": "stdout",
     "output_type": "stream",
     "text": [
      "Product: 15\n",
      "Sum: 8\n"
     ]
    }
   ],
   "source": [
    "# Multiply and add numbers\n",
    "a = 5\n",
    "b = 3\n",
    "\n",
    "# Multiplication\n",
    "product = a * b\n",
    "\n",
    "# Addition\n",
    "sum_result = a + b\n",
    "\n",
    "print(\"Product:\", product)\n",
    "print(\"Sum:\", sum_result)\n"
   ]
  },
  {
   "cell_type": "code",
   "execution_count": 2,
   "metadata": {},
   "outputs": [
    {
     "name": "stdout",
     "output_type": "stream",
     "text": [
      "Minutes: 150\n",
      "Hours: 2.5\n"
     ]
    }
   ],
   "source": [
    "# Convert minutes to hours\n",
    "minutes = 150\n",
    "hours = minutes / 60\n",
    "\n",
    "print(\"Minutes:\", minutes)\n",
    "print(\"Hours:\", hours)\n"
   ]
  },
  {
   "cell_type": "markdown",
   "metadata": {},
   "source": [
    "### 🎯 Objectives\n",
    "\n",
    "In this section, we will focus on the following objectives:\n",
    "There are a total of 25 points possible for this final project.\n",
    "\n",
    "Your grade will be based on the following Exercises:\n",
    "\n",
    "Exercise 2 - Create a markdown cell with the title of the notebook. (1 pt)\n",
    "\n",
    "Exercise 3 - Create a markdown cell for an introduction. (1 pt)\n",
    "\n",
    "Exercise 4 - Create a markdown cell to list data science languages. (3 pts)\n",
    "\n",
    "Exercise 5 - Create a markdown cell to list data science libraries. (3 pts)\n",
    "\n",
    "Exercise 6 - Create a markdown cell with a table of Data Science tools. (3 pts)\n",
    "\n",
    "Exercise 7 - Create a markdown cell introducing arithmetic expression examples. (1 pt)\n",
    "\n",
    "Exercise 8 - Create a code cell to multiply and add numbers. (2 pts)\n",
    "\n",
    "Exercise 9 - Create a code cell to convert minutes to hours. (2 pts)\n",
    "\n",
    "Exercise 10 -Insert a markdown cell to list Objectives. (3 pts)\n",
    "\n",
    "Exercise 11 - Create a markdown cell to indicate the Author’s name. (2 pts)\n",
    "\n",
    "Exercise 12 - Share your notebook through GitHub (3 pts)\n",
    "\n",
    "Exercise 13 - Take a screenshot of the first page of the notebook. (1 pt)\n"
   ]
  },
  {
   "cell_type": "markdown",
   "metadata": {},
   "source": [
    "### ✍️ Author's Name\n",
    "\n",
    "This notebook was created by **Rahul Varma(AKA Thomas)**.\n"
   ]
  },
  {
   "cell_type": "code",
   "execution_count": null,
   "metadata": {},
   "outputs": [],
   "source": []
  }
 ],
 "metadata": {
  "kernelspec": {
   "display_name": "Python 3 (ipykernel)",
   "language": "python",
   "name": "python3"
  },
  "language_info": {
   "codemirror_mode": {
    "name": "ipython",
    "version": 3
   },
   "file_extension": ".py",
   "mimetype": "text/x-python",
   "name": "python",
   "nbconvert_exporter": "python",
   "pygments_lexer": "ipython3",
   "version": "3.12.8"
  }
 },
 "nbformat": 4,
 "nbformat_minor": 4
}
